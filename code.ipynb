{
 "cells": [
  {
   "cell_type": "code",
   "execution_count": 7,
   "metadata": {},
   "outputs": [
    {
     "name": "stdout",
     "output_type": "stream",
     "text": [
      "Logistic Regression Accuracy: 0.7550\n",
      "Model saved as Logistic_Regression_model.joblib\n",
      "Random Forest Accuracy: 0.7450\n",
      "Model saved as Random_Forest_model.joblib\n",
      "SVM Accuracy: 0.7550\n",
      "Model saved as SVM_model.joblib\n",
      "K-Nearest Neighbors Accuracy: 0.7250\n",
      "Model saved as K-Nearest_Neighbors_model.joblib\n",
      "Gradient Boosting Accuracy: 0.7300\n",
      "Model saved as Gradient_Boosting_model.joblib\n",
      "Decision Tree Accuracy: 0.6500\n",
      "Model saved as Decision_Tree_model.joblib\n",
      "\n",
      "Best Model: LogisticRegression with Accuracy: 0.7550\n"
     ]
    }
   ],
   "source": [
    "import pandas as pd\n",
    "from sklearn.model_selection import train_test_split\n",
    "from sklearn.preprocessing import LabelEncoder\n",
    "from sklearn.metrics import accuracy_score\n",
    "import joblib\n",
    "\n",
    "# Load dataset\n",
    "data = pd.read_csv('training_data.csv')\n",
    "X = data.drop(columns=['Label'])\n",
    "y = LabelEncoder().fit_transform(data['Label'])  # Encode labels as 0 and 1\n",
    "\n",
    "# Split dataset\n",
    "X_train, X_test, y_train, y_test = train_test_split(X, y, test_size=0.2, random_state=42)\n",
    "\n",
    "# Dictionary of algorithms to train\n",
    "from sklearn.linear_model import LogisticRegression\n",
    "from sklearn.ensemble import RandomForestClassifier, GradientBoostingClassifier\n",
    "from sklearn.svm import SVC\n",
    "from sklearn.neighbors import KNeighborsClassifier\n",
    "from sklearn.tree import DecisionTreeClassifier\n",
    "\n",
    "models = {\n",
    "    \"Logistic Regression\": LogisticRegression(max_iter=1000),\n",
    "    \"Random Forest\": RandomForestClassifier(random_state=42),\n",
    "    \"SVM\": SVC(),\n",
    "    \"K-Nearest Neighbors\": KNeighborsClassifier(),\n",
    "    \"Gradient Boosting\": GradientBoostingClassifier(),\n",
    "    \"Decision Tree\": DecisionTreeClassifier(random_state=42)\n",
    "}\n",
    "\n",
    "# Train each model, evaluate accuracy, and save all models\n",
    "best_model = None\n",
    "best_accuracy = 0\n",
    "results = {}\n",
    "\n",
    "for name, model in models.items():\n",
    "    # Train the model\n",
    "    model.fit(X_train, y_train)\n",
    "    \n",
    "    # Make predictions\n",
    "    y_pred = model.predict(X_test)\n",
    "    accuracy = accuracy_score(y_test, y_pred)\n",
    "    results[name] = accuracy\n",
    "    \n",
    "    print(f\"{name} Accuracy: {accuracy:.4f}\")\n",
    "    \n",
    "    # Save each model\n",
    "    model_filename = f\"{name.replace(' ', '_')}_model.joblib\"\n",
    "    joblib.dump(model, model_filename)\n",
    "    print(f\"Model saved as {model_filename}\")\n",
    "    \n",
    "    # Track the best model\n",
    "    if accuracy > best_accuracy:\n",
    "        best_accuracy = accuracy\n",
    "        best_model = model\n",
    "\n",
    "# Save the best model separately for clarity\n",
    "joblib.dump(best_model, 'best_model.joblib')\n",
    "print(f\"\\nBest Model: {best_model.__class__.__name__} with Accuracy: {best_accuracy:.4f}\")\n"
   ]
  },
  {
   "cell_type": "code",
   "execution_count": 14,
   "metadata": {},
   "outputs": [
    {
     "name": "stdout",
     "output_type": "stream",
     "text": [
      "Accuracy: 0.6\n",
      "              precision    recall  f1-score   support\n",
      "\n",
      "           0       0.31      0.53      0.39        49\n",
      "           1       0.80      0.62      0.70       151\n",
      "\n",
      "    accuracy                           0.60       200\n",
      "   macro avg       0.56      0.58      0.55       200\n",
      "weighted avg       0.68      0.60      0.63       200\n",
      "\n"
     ]
    }
   ],
   "source": [
    "from sklearn.linear_model import LogisticRegression\n",
    "from sklearn.metrics import accuracy_score, classification_report\n",
    "from imblearn.over_sampling import SMOTE\n",
    "import joblib\n",
    "\n",
    "# Apply SMOTE to balance classes\n",
    "smote = SMOTE(random_state=42)\n",
    "X_resampled, y_resampled = smote.fit_resample(X, y)\n",
    "\n",
    "# Train Logistic Regression with class weights\n",
    "model = LogisticRegression(max_iter=1000, class_weight='balanced')\n",
    "model.fit(X_resampled, y_resampled)\n",
    "\n",
    "# Save the re-trained model\n",
    "joblib.dump(model, 'balanced_logistic_regression_model.joblib')\n",
    "\n",
    "# Evaluate on the test data\n",
    "y_pred = model.predict(X_test)\n",
    "print(\"Accuracy:\", accuracy_score(y_test, y_pred))\n",
    "print(classification_report(y_test, y_pred))\n"
   ]
  },
  {
   "cell_type": "code",
   "execution_count": 15,
   "metadata": {},
   "outputs": [
    {
     "name": "stdout",
     "output_type": "stream",
     "text": [
      "Logistic Regression best parameters: {'C': 1}\n",
      "Random Forest best parameters: {'max_depth': None, 'n_estimators': 100}\n",
      "Gradient Boosting best parameters: {'learning_rate': 0.5, 'n_estimators': 150}\n",
      "Ensemble Accuracy: 1.0\n",
      "              precision    recall  f1-score   support\n",
      "\n",
      "           0       1.00      1.00      1.00        49\n",
      "           1       1.00      1.00      1.00       151\n",
      "\n",
      "    accuracy                           1.00       200\n",
      "   macro avg       1.00      1.00      1.00       200\n",
      "weighted avg       1.00      1.00      1.00       200\n",
      "\n"
     ]
    }
   ],
   "source": [
    "from sklearn.ensemble import RandomForestClassifier, GradientBoostingClassifier, VotingClassifier\n",
    "from sklearn.model_selection import GridSearchCV\n",
    "\n",
    "# Define models and parameters for tuning\n",
    "models = {\n",
    "    'Logistic Regression': LogisticRegression(class_weight='balanced', max_iter=1000),\n",
    "    'Random Forest': RandomForestClassifier(class_weight='balanced', random_state=42),\n",
    "    'Gradient Boosting': GradientBoostingClassifier()\n",
    "}\n",
    "\n",
    "params = {\n",
    "    'Logistic Regression': {'C': [0.1, 1, 10]},\n",
    "    'Random Forest': {'n_estimators': [50, 100, 150], 'max_depth': [5, 10, None]},\n",
    "    'Gradient Boosting': {'n_estimators': [50, 100, 150], 'learning_rate': [0.01, 0.1, 0.5]}\n",
    "}\n",
    "\n",
    "# Tune each model with GridSearchCV\n",
    "best_models = {}\n",
    "for model_name in models:\n",
    "    grid = GridSearchCV(models[model_name], params[model_name], scoring='f1_weighted', cv=5)\n",
    "    grid.fit(X_resampled, y_resampled)\n",
    "    best_models[model_name] = grid.best_estimator_\n",
    "    print(f\"{model_name} best parameters: {grid.best_params_}\")\n",
    "\n",
    "# Create an ensemble using the best tuned models\n",
    "ensemble = VotingClassifier(estimators=[\n",
    "    ('lr', best_models['Logistic Regression']),\n",
    "    ('rf', best_models['Random Forest']),\n",
    "    ('gb', best_models['Gradient Boosting'])\n",
    "], voting='soft')\n",
    "\n",
    "# Train and evaluate the ensemble model\n",
    "ensemble.fit(X_resampled, y_resampled)\n",
    "y_pred = ensemble.predict(X_test)\n",
    "\n",
    "print(\"Ensemble Accuracy:\", accuracy_score(y_test, y_pred))\n",
    "print(classification_report(y_test, y_pred))\n"
   ]
  },
  {
   "cell_type": "code",
   "execution_count": 16,
   "metadata": {},
   "outputs": [
    {
     "data": {
      "text/plain": [
       "['ensemble_model.joblib']"
      ]
     },
     "execution_count": 16,
     "metadata": {},
     "output_type": "execute_result"
    }
   ],
   "source": [
    "import joblib\n",
    "\n",
    "# Save the ensemble model\n",
    "joblib.dump(ensemble, 'ensemble_model.joblib')\n"
   ]
  },
  {
   "cell_type": "code",
   "execution_count": 19,
   "metadata": {},
   "outputs": [
    {
     "name": "stdout",
     "output_type": "stream",
     "text": [
      "Sample 1 Prediction: 0\n",
      "Sample 2 Prediction: 0\n",
      "Sample 3 Prediction: 1\n",
      "Sample 4 Prediction: 1\n"
     ]
    }
   ],
   "source": [
    "import joblib\n",
    "import pandas as pd\n",
    "\n",
    "# Load the saved ensemble model\n",
    "ensemble = joblib.load('ensemble_model.joblib')\n",
    "\n",
    "# New test data\n",
    "data = [\n",
    "    [3169, 84.6247798635863, 41.67349939111806, 0.6800232494089303, 47.40725543010246, 58.96466103059585, 35.933455880744816, 0.9638054077939433],\n",
    "    [1466, 61.217332224917286, 39.97989646458853, 0.8378180244862548, 8.366954233773786, 77.61810607172299, 68.40641417892604, 0.7085416001081007],\n",
    "    [2238, 15.71606466310012, 67.04110544477845, 0.40006658994319944, 24.730552186276018, 88.50369293824137, 35.10840596305289, 0.916975720217114],\n",
    "    [1330, 13.313968087239225, 61.38508347490708, 0.759746070873994, 28.844656748983677, 76.69878516339955, 69.42478327704802, 0.7567934604163131]\n",
    "]\n",
    "\n",
    "# Convert to a DataFrame (update column names to match training feature names)\n",
    "columns = ['Feature1', 'Feature2', 'Feature3', 'Feature4', 'Feature5', 'Feature6', 'Feature7', 'Feature8']\n",
    "df_test = pd.DataFrame(data, columns=columns)\n",
    "\n",
    "# Predict using the ensemble model\n",
    "y_pred = ensemble.predict(df_test)\n",
    "\n",
    "# Print the predictions\n",
    "for i, pred in enumerate(y_pred):\n",
    "    print(f\"Sample {i+1} Prediction: {pred}\")\n"
   ]
  }
 ],
 "metadata": {
  "kernelspec": {
   "display_name": "Python 3",
   "language": "python",
   "name": "python3"
  },
  "language_info": {
   "codemirror_mode": {
    "name": "ipython",
    "version": 3
   },
   "file_extension": ".py",
   "mimetype": "text/x-python",
   "name": "python",
   "nbconvert_exporter": "python",
   "pygments_lexer": "ipython3",
   "version": "3.12.5"
  }
 },
 "nbformat": 4,
 "nbformat_minor": 2
}
